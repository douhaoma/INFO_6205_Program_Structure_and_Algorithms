{
 "cells": [
  {
   "cell_type": "markdown",
   "id": "4236a0e1",
   "metadata": {},
   "source": [
    "# INFO 6205 - Program Structure and Algorithms\n",
    "# Worked Assignment 2 Solutions\n",
    "### student Name: yuxuan zhang\n",
    "### Professor: Nik Bear Brown\n",
    "### Date: 4/10/2023"
   ]
  },
  {
   "cell_type": "markdown",
   "id": "d9761166",
   "metadata": {},
   "source": [
    "## Q1 (15 Points)\n",
    "\n",
    "One approach to detect if an undirected graph  G=(V, E) is connected is to use BFS. Starting from an arbitrary vertex, use BFS to explore the graph. If, after completing the BFS traversal, all vertices have been visited, then the graph is connected.\n",
    "\n",
    "Explain how to implement this idea. How does this algorithm behave if  G  is not connected?"
   ]
  },
  {
   "cell_type": "markdown",
   "id": "d0585172",
   "metadata": {},
   "source": [
    "## Solution:\n",
    "**Detecting Connectivity in an Undirected Graph using BFS**\n",
    "\n",
    "To determine if an undirected graph \\( G = (V, E) \\) is connected, we can start a BFS traversal from any arbitrary vertex. If all vertices are visited after the BFS completes, then the graph is connected. Otherwise, it's not connected.\n",
    "\n",
    "**Implementation**:\n",
    "\n",
    "1. **Initialization**:\n",
    "   - Choose an arbitrary vertex \\( v \\) to start the BFS.\n",
    "   - Create an empty queue and a set (or boolean array) to keep track of visited vertices.\n",
    "   - Enqueue \\( v \\) and mark it as visited.\n",
    "\n",
    "2. **BFS Traversal**:\n",
    "   - While the queue is not empty:\n",
    "     - Dequeue a vertex \\( u \\) from the front of the queue.\n",
    "     - For each neighbor \\( w \\) of \\( u \\) that has not been visited:\n",
    "       - Mark \\( w \\) as visited.\n",
    "       - Enqueue \\( w \\).\n",
    "\n",
    "3. **Checking for Connectivity**:\n",
    "   - After the BFS traversal, check the visited set (or boolean array). If it contains all vertices from \\( V \\), then the graph is connected. Otherwise, it's not connected.\n",
    "\n",
    "**Behavior if \\( G \\) is not connected**:\n",
    "\n",
    "If \\( G \\) is not connected, the BFS traversal will not visit all the vertices. After the BFS traversal, the visited set (or boolean array) will have fewer vertices than the total number of vertices in \\( V \\). Hence, by comparing the size of the visited set with the size of \\( V \\), we can determine that the graph is not connected."
   ]
  },
  {
   "cell_type": "markdown",
   "id": "e01b6c6a",
   "metadata": {},
   "source": [
    "## Q2 (15 Points)\n",
    "Given the following undirected graph, use Kruskal's algorithm to find the minimum spanning tree. Show your steps.\n"
   ]
  },
  {
   "cell_type": "markdown",
   "id": "7a28f473",
   "metadata": {},
   "source": [
    "## Solution:\n",
    "Go to https://www.cs.usfca.edu/~galles/visualization/Prim.html\n",
    "\n",
    "The site will generate numerous examples, an adjacency list, an adjacency matrix, and an animated solution to help you understand the algorithm's workings."
   ]
  },
  {
   "cell_type": "markdown",
   "id": "9be1c92c",
   "metadata": {},
   "source": [
    "<img src=\"https://github.com/lucaszhang98/INFO_6205_Program_Structure_and_Algorithms/blob/Students/Submissions/Yuxuan_Zhang_002778556/Assignment2_photo/question2.jpg?raw=true\" width=\"400\"/>"
   ]
  },
  {
   "cell_type": "markdown",
   "id": "c3cb3eb5",
   "metadata": {},
   "source": [
    "Kruskal's algorithm works by sorting all the edges in non-decreasing order of their weight. Then, it picks the smallest edge and includes it in the MST if its addition doesn't form a cycle. The process is repeated until there are \\(V-1\\) edges in the MST, where \\(V\\) is the number of vertices.\n",
    "\n",
    "**Step 1:** List all edges in non-decreasing order of weights:\n",
    "\n",
    "1. (3, 7): 1\n",
    "2. (5, 6): 2\n",
    "3. (0, 1): 3\n",
    "4. (1, 6): 3\n",
    "5. (2, 5): 3\n",
    "6. (1, 3): 6\n",
    "7. (1, 5): 5\n",
    "8. (4, 0): 5\n",
    "9. (4, 6): 4\n",
    "10. (0, 2): 8\n",
    "11. (5, 7): 7\n",
    "12. (2, 6): 9\n",
    "13. (6, 7): 9\n",
    "\n",
    "**Step 2:** Initialize the MST as an empty set.\n",
    "\n",
    "**Step 3:** Process edges in the sorted order:\n",
    "\n",
    "1. Add (3, 7): 1 to MST.\n",
    "2. Add (5, 6): 2 to MST.\n",
    "3. Add (0, 1): 3 to MST.\n",
    "4. Add (1, 6): 3 to MST. (Note: Adding this does not form a cycle.)\n",
    "5. Add (2, 5): 3 to MST.\n",
    "6. (1, 3): 6 -> Skip, as adding this would form a cycle.\n",
    "7. Add (1, 5): 5 to MST. (Note: Even though 1 and 5 are connected through other edges, adding this edge doesn't form a cycle.)\n",
    "8. Add (4, 0): 5 to MST.\n",
    "9. (4, 6): 4 -> Skip, as adding this would form a cycle.\n",
    "10. (0, 2): 8 -> Skip, as 0 and 2 are already connected.\n",
    "11. (5, 7): 7 -> Skip, as 5 and 7 are already connected.\n",
    "12. (2, 6): 9 -> Skip, as 2 and 6 are already connected.\n",
    "13. (6, 7): 9 -> Skip, as 6 and 7 are already connected.\n",
    "\n",
    "**Result:** The edges of the minimum spanning tree are:\n",
    "1. (3, 7): 1\n",
    "2. (5, 6): 2\n",
    "3. (0, 1): 3\n",
    "4. (1, 6): 3\n",
    "5. (2, 5): 3\n",
    "6. (1, 5): 5\n",
    "7. (4, 0): 5\n",
    "\n",
    "The sum of the weights of these edges is 1 + 2 + 3 + 3 + 3 + 5 + 5 = 22, which is the weight of the minimum spanning tree."
   ]
  },
  {
   "cell_type": "markdown",
   "id": "bfc18f66",
   "metadata": {},
   "source": [
    "## Q3 (15 Points)\n",
    "A telecom company builds data transmission lines between cities. Each transmission line between two cities has an installation cost. Some cities have data centers, where data can be routed for further transmission. Each city, whether it has a data center or not, has a data relay cost for data passing through it. Each transmission line also has a maximum data throughput it can handle per day. Every day, the company needs to determine the most cost-effective path to transmit data from a source city to a destination city, taking into account both installation and data relay costs. Devise an algorithm that efficiently finds the most cost-effective path for daily data transmission. Why is your approach efficient?"
   ]
  },
  {
   "cell_type": "markdown",
   "id": "7eebd39a",
   "metadata": {},
   "source": [
    "## Solution:\n",
    "\n",
    "1. **Initialization**:\n",
    "   - Create a priority queue (or a min-heap) to store cities to be processed. \n",
    "   - For each city, maintain a value denoted as `total_cost` which represents the cost incurred to reach that city from the source city. Initialize `total_cost` of the source city to 0 and for all other cities to infinity.\n",
    "   - Maintain a list or array named `processed` to keep track of cities that have been visited.\n",
    "\n",
    "2. **Processing**:\n",
    "   - While the priority queue is not empty:\n",
    "     1. Pop the city with the lowest `total_cost` (denoted `current_city`).\n",
    "     2. If `current_city` is the destination, terminate the algorithm. The `total_cost` for the destination city is now the minimum cost.\n",
    "     3. For each neighboring city directly reachable from `current_city`:\n",
    "        - Calculate the tentative cost to reach that city as:  \n",
    "          `tentative_cost = total_cost[current_city] + installation_cost[current_city to neighbor] + data_relay_cost[neighbor]`\n",
    "        - If `tentative_cost` is less than the `total_cost` of the neighbor, update the `total_cost` of the neighbor.\n",
    "        - Push the neighbor to the priority queue.\n",
    "     4. Mark `current_city` as processed.\n",
    "\n",
    "3. **Result**:\n",
    "   - The `total_cost` of the destination city gives the cost of the most cost-effective path. The path can be reconstructed through backtracking from the destination to the source, following the path that resulted in the minimum costs.\n",
    "\n",
    "### Efficiency:\n",
    "\n",
    "This algorithm is efficient because:\n",
    "\n",
    "1. **Priority Queue** - The use of a priority queue ensures that at every step, we're examining the city with the lowest known `total_cost`, which guarantees the shortest path for that city. This avoids unnecessary exploration of longer paths.\n",
    "  \n",
    "2. **Processed List** - By marking cities as processed, we avoid redundant work and reprocessing of cities, ensuring each city is handled once.\n",
    "\n",
    "3. **Time Complexity** - The modified Dijkstra's algorithm runs in \\(O(|E| + |V| \\log |V|)\\), where \\(|E|\\) is the number of transmission lines (edges) and \\(|V|\\) is the number of cities (vertices). This makes it suitable for large networks as well.\n",
    "\n",
    "The algorithm efficiently finds the most cost-effective path for daily data transmission by considering both installation and data relay costs, making it apt for the problem at hand."
   ]
  },
  {
   "cell_type": "markdown",
   "id": "5c07084f",
   "metadata": {},
   "source": [
    "## Q4 (15 Points)\n",
    "Determine the maximum flow from the start node S to the terminal node T using the Ford-Fulkerson algorithm in a flow network of your creation. Walk through your steps in detail."
   ]
  },
  {
   "cell_type": "markdown",
   "id": "1cf90b23",
   "metadata": {},
   "source": [
    "## Solution:\n",
    "Solution:\n",
    "Visit https://www.cs.usfca.edu/~galles/visualization/Dijkstra.html\n",
    "\n",
    "The site will generate numerous examples, an adjacency list, an adjacency matrix, and an animated solution to help you understand the algorithm's workings."
   ]
  },
  {
   "cell_type": "markdown",
   "id": "573cb54a",
   "metadata": {},
   "source": [
    "<img src=\"https://github.com/lucaszhang98/INFO_6205_Program_Structure_and_Algorithms/blob/Students/Submissions/Yuxuan_Zhang_002778556/Assignment2_photo/question4.jpg?raw=true\" width=\"400\"/>"
   ]
  },
  {
   "cell_type": "markdown",
   "id": "b6232ce9",
   "metadata": {},
   "source": [
    "(0,4) 6  \n",
    "(1,3) 5  \n",
    "(1,5) 8  \n",
    "(1,6) 8  \n",
    "(2,6) 1  \n",
    "(5,6) 2  \n",
    "(6,4) 1  \n",
    "(6,7) 7  \n",
    "(4,7) 7  \n",
    "Let's denote the source node as S and the sink node as T. We'll consider the lowest numbered node (0) as the source S and the highest numbered node (7) as the sink T.\n",
    "**1. Initial Flow**: All edges have flow of 0.\n",
    "\n",
    "**2. Finding Augmenting Paths**:\n",
    "  - First Path: ( S ) - (4) - (7) - ( T ) with bottleneck capacity 6 (from edge ( S ) to (4)).\n",
    "    - Update flow: ( S ) - (4) now has flow of 6. (4) - (7) has flow of 6.\n",
    "  - Second Path: \\( S \\) - (4) - (5) - (6) - (7) - \\( T \\) with bottleneck capacity 2 (from edge (5) to (6)).\n",
    "    - Update flow: \\( S \\) - (4) remains at flow of 6. (4) - (5) now has flow of 2. (5) - (6) has flow of 2. (6) - (7) has flow of 2.\n",
    "  - Third Path: 1 - (3) - 5 - (6) - 7 - \\( T \\) with bottleneck capacity 5 (from edge 1 to (3)).\n",
    "    - Update flow: 1 - (3) now has flow of 5. (3) - (5) has flow of 5. (5) - (6) remains at flow of 2 (as its capacity is maxed out). (6) - (7) has flow of 7 (5 + 2).\n",
    "  - Fourth Path: 1 - (5) - (6) - \\( T \\) with bottleneck capacity 6 (from edge 1 to (5)).\n",
    "    - Update flow: 1 - (5) has flow of 6. (5) - (6) now has flow of 8 (2 from earlier + 6 now). (6) - (7) has flow of 8 (it's maxed out).\n",
    "  - No more augmenting paths can be found.\n",
    "\n",
    "**3. Calculate Maximum Flow**: \n",
    "  \\( S \\) - (4) = 6\n",
    "  1 - (3) = 5\n",
    "  1 - (5) = 6\n",
    "  Total flow = 6 + 5 + 6 = 17\n",
    "\n",
    "Thus, the maximum flow from \\( S \\) to \\( T \\) in the network is 17."
   ]
  },
  {
   "cell_type": "markdown",
   "id": "da79b4a2",
   "metadata": {},
   "source": [
    "## Q5  (15 Points)\n",
    "Determine if a given directed graph is strongly connected. If it is, find the strongly connected components. Show your steps.\n",
    "\n",
    "Express the directed graph above as:   \n",
    "A. An adjacency list   \n",
    "B. An adjacency matrix   \n",
    "Is the directed graph strongly connected? If so, identify the strongly connected components of the graph. "
   ]
  },
  {
   "cell_type": "markdown",
   "id": "8274418e",
   "metadata": {},
   "source": [
    "## Solution:\n",
    "Go to https://www.cs.usfca.edu/~galles/visualization/TopoSortIndegree.html and \n",
    "https://www.cs.usfca.edu/~galles/visualization/TopoSortDFS.html\n",
    "The site will generate hundreds of examples, an adjacency list, an adjacency matrix and an animated solution."
   ]
  },
  {
   "cell_type": "markdown",
   "id": "e8781250",
   "metadata": {},
   "source": [
    "<img src=\"https://github.com/lucaszhang98/INFO_6205_Program_Structure_and_Algorithms/blob/Students/Submissions/Yuxuan_Zhang_002778556/Assignment2_photo/question5.jpg?raw=true\" width=\"400\"/>"
   ]
  },
  {
   "cell_type": "markdown",
   "id": "a6877e97",
   "metadata": {},
   "source": [
    "### A. Adjacency List:\n",
    "An adjacency list represents the graph as a map from nodes to lists of neighboring vertices. Here's how the adjacency list would look for the given graph:   \n",
    "0 -> [1, 4]  \n",
    "1 -> []  \n",
    "2 -> [4, 6]   \n",
    "3 -> [5]  \n",
    "4 -> [7]  \n",
    "5 -> [6, 7]  \n",
    "6 -> [7]    \n",
    "7 -> []"
   ]
  },
  {
   "cell_type": "markdown",
   "id": "b40c7451",
   "metadata": {},
   "source": [
    "### B. Adjacency Matrix:    \n",
    "If we represent nodes from 0 to 7 as rows and columns of the matrix, we can have the following matrix representation (1 indicates a directed edge, and 0 indicates no edge):   \n",
    "///    0 1 2 3 4 5 6 7    \n",
    "0 [ 0 1 0 0 1 0 0 0 ]   \n",
    "1 [ 0 0 0 0 0 0 0 0 ]   \n",
    "2 [ 0 0 0 0 1 0 1 0 ]   \n",
    "3 [ 0 0 0 0 0 1 0 0 ]   \n",
    "4 [ 0 0 0 0 0 0 0 1 ]   \n",
    "5 [ 0 0 0 0 0 0 1 1 ]   \n",
    "6 [ 0 0 0 0 0 0 0 1 ]   \n",
    "7 [ 0 0 0 0 0 0 0 0 ]   \n"
   ]
  },
  {
   "cell_type": "markdown",
   "id": "4ebcefdc",
   "metadata": {},
   "source": [
    "### Strongly Connected Components:\n",
    "\n",
    "For a directed graph to be strongly connected, there must be a directed path between any pair of vertices.\n",
    "\n",
    "From the adjacency list, we can deduce:\n",
    "- There's no path from 1 to any other vertex, so the graph isn't strongly connected.\n",
    "- Node 7 doesn't have outgoing edges to any other node except through a path that goes back to it.\n",
    "\n",
    "However, we can identify strongly connected components (SCCs) within the graph. A strongly connected component of a directed graph is a maximal strongly connected subgraph. \n",
    "\n",
    "From the provided graph:\n",
    "- {7, 6, 5} form a strongly connected component as there's a circular path between these nodes.\n",
    "- All other nodes (0, 1, 2, 3, 4) are individual components since they don't form cycles with other nodes."
   ]
  },
  {
   "cell_type": "markdown",
   "id": "74d8ab7e",
   "metadata": {},
   "source": [
    "## Q6 (15 Points)\n",
    "Find shortest path from node A to node B using Breadth-First Search in a graph of your choice. Show \n",
    "your steps."
   ]
  },
  {
   "cell_type": "markdown",
   "id": "19092078",
   "metadata": {},
   "source": [
    "## Solution:\n",
    "Go to https://www.cs.usfca.edu/~galles/visualization/BFS.html\n",
    "The site will generate hundreds of examples, an adjacency list, an adjacency matrix and an animated \n",
    "solution."
   ]
  },
  {
   "cell_type": "markdown",
   "id": "4b8de721",
   "metadata": {},
   "source": [
    "<img src=\"https://github.com/lucaszhang98/INFO_6205_Program_Structure_and_Algorithms/blob/Students/Submissions/Yuxuan_Zhang_002778556/Assignment2_photo/question6.jpg?raw=true\" width=\"400\"/>"
   ]
  },
  {
   "cell_type": "markdown",
   "id": "23e2cf7d",
   "metadata": {},
   "source": [
    "\n",
    "Given the graph:\n",
    "```\n",
    "0 → 1\n",
    "0 → 2\n",
    "0 → 4\n",
    "1 → 3\n",
    "1 → 5\n",
    "1 → 6\n",
    "2 → 5\n",
    "2 → 6\n",
    "4 → 6\n",
    "5 → 3\n",
    "6 → 5\n",
    "7 → 6\n",
    "```\n",
    "\n",
    "**Breadth-First Search (BFS) to find the shortest path from 0 to 6**:\n",
    "\n",
    "1. Start from node 0 and explore its neighbors.\n",
    "2. Keep track of the nodes that are visited to avoid revisiting them.\n",
    "3. For each neighbor, store its parent (the node from which it was visited).\n",
    "4. Continue visiting the neighbors of the neighbors until node 7 is found or all nodes are visited.\n",
    "\n",
    "**Steps**:\n",
    "\n",
    "1. Start at node 0.\n",
    "   - Neighbors: 1, 2, 4\n",
    "   - Visited: 0\n",
    "\n",
    "2. Explore node 1's neighbors.\n",
    "   - Neighbors: 3, 5, 6\n",
    "   - Visited: 0, 1\n",
    "\n",
    "3. Explore node 2's neighbors.\n",
    "   - Neighbors: 5, 6 (5 has been previously encountered, but add it to visited nodes)\n",
    "   - Visited: 0, 1, 2\n",
    "\n",
    "4. Explore node 4's neighbors.\n",
    "   - Neighbors: 6 (6 has been previously encountered, but add it to visited nodes)\n",
    "   - Visited: 0, 1, 2, 4\n",
    "\n",
    "5. Explore node 3's neighbors.\n",
    "   - No new neighbors since 3 only points back to 5.\n",
    "   - Visited: 0, 1, 2, 4, 3\n",
    "\n",
    "6. Explore node 5's neighbors.\n",
    "   - Neighbors: 3 (but 3 has been previously visited)\n",
    "   - Visited: 0, 1, 2, 4, 3, 5\n",
    "\n",
    "7. Explore node 6's neighbors.\n",
    "   - Neighbors: 5 (but 5 has been previously visited)\n",
    "   - Visited: 0, 1, 2, 4, 3, 5, 6\n",
    "\n",
    "8. Trace back from 7 to 0 using the parent information:\n",
    "   - 7 came from 6\n",
    "   - 6 can be reached from multiple nodes (e.g., 1, 2, 4). For simplicity, let's assume we reached 6 from 1.\n",
    "   - 1 came from 0\n",
    "\n",
    "So, one of the shortest paths from 0 (A) to 6 (B) is: 0 → 1 → 6\n",
    "\n",
    "(Note: Depending on the order of exploring neighbors, there might be other shortest paths. For example, 0 → 2 → 6 and 0 → 4 → 6 is also a valid shortest path.)"
   ]
  },
  {
   "cell_type": "markdown",
   "id": "146d9a83",
   "metadata": {},
   "source": [
    "## Q7 (15 Points)\n",
    "Use Kruskal's algorithm to find a minimum spanning tree in a graph of your choice. Show your steps."
   ]
  },
  {
   "cell_type": "markdown",
   "id": "fd835f1d",
   "metadata": {},
   "source": [
    "## Solution:   \n",
    "Go to https://www.cs.usfca.edu/~galles/visualization/Kruskal.html\n",
    "The site will generate hundreds of examples, an adjacency list, an adjacency matrix and an animated solution."
   ]
  },
  {
   "cell_type": "markdown",
   "id": "e6048624",
   "metadata": {},
   "source": [
    "<img src=\"https://github.com/lucaszhang98/INFO_6205_Program_Structure_and_Algorithms/blob/Students/Submissions/Yuxuan_Zhang_002778556/Assignment2_photo/question7.jpg?raw=true\" width=\"400\"/>"
   ]
  },
  {
   "cell_type": "markdown",
   "id": "4c4c8ab4",
   "metadata": {},
   "source": [
    "To find the Minimum Spanning Tree (MST) using Kruskal's algorithm, follow these steps:\n",
    "\n",
    "1. Sort all the edges in non-decreasing order of their weights.\n",
    "2. Start with an empty graph.\n",
    "3. Add the edges one by one in the sorted order.\n",
    "4. Add an edge only if it does not form a cycle with the MST formed so far.\n",
    "\n",
    "Given graph (sorted based on weight):\n",
    "1. 0 - 3: 1\n",
    "2. 5 - 7: 3\n",
    "3. 3 - 7: 4\n",
    "4. 5 - 6: 5\n",
    "5. 2 - 6: 6\n",
    "6. 0 - 1: 7\n",
    "7. 0 - 4: 8\n",
    "8. 1 - 5: 9\n",
    "\n",
    "**Kruskal's Algorithm Execution**:\n",
    "\n",
    "1. Add edge 0 - 3 of weight 1.  \n",
    "   MST = {(0,3)}\n",
    "\n",
    "2. Add edge 5 - 7 of weight 3.  \n",
    "   MST = {(0,3), (5,7)}\n",
    "\n",
    "3. Add edge 3 - 7 of weight 4.   \n",
    "   MST = {(0,3), (5,7), (3,7)}\n",
    "\n",
    "4. Add edge 5 - 6 of weight 5.   \n",
    "   MST = {(0,3), (5,7), (3,7), (5,6)}\n",
    "\n",
    "5. Add edge 2 - 6 of weight 6.   \n",
    "   MST = {(0,3), (5,7), (3,7), (5,6), (2,6)}\n",
    "\n",
    "6. Add edge 0 - 1 of weight 7.  \n",
    "   MST = {(0,3), (5,7), (3,7), (5,6), (2,6), (0,1)}\n",
    "\n",
    "At this point, adding the remaining edges will either result in a cycle or they are not required as we've connected all the vertices.\n",
    "\n",
    "So, the Minimum Spanning Tree formed using Kruskal's algorithm is:\n",
    "MST = {(0,3), (5,7), (3,7), (5,6), (2,6), (0,1)}\n",
    "\n",
    "With a total weight of 1 + 3 + 4 + 5 + 6 + 7 = 26."
   ]
  },
  {
   "cell_type": "markdown",
   "id": "321f939c",
   "metadata": {},
   "source": [
    "## Q8 (15 Points)\n",
    "Find whether node A is reachable from node B using Depth-First Search in a graph of your choice. Show your steps."
   ]
  },
  {
   "cell_type": "markdown",
   "id": "8dfcf86a",
   "metadata": {},
   "source": [
    "### Solution:\n",
    "Go to https://www.cs.usfca.edu/~galles/visualization/DFS.html\n",
    "The site will generate hundreds of examples, an adjacency list, an adjacency matrix and an animated solution."
   ]
  },
  {
   "cell_type": "markdown",
   "id": "8e831c9c",
   "metadata": {},
   "source": [
    "<img src=\"https://github.com/lucaszhang98/INFO_6205_Program_Structure_and_Algorithms/blob/Students/Submissions/Yuxuan_Zhang_002778556/Assignment2_photo/question8.jpg?raw=true\" width=\"400\"/>"
   ]
  },
  {
   "cell_type": "markdown",
   "id": "17e0213a",
   "metadata": {},
   "source": [
    "```\n",
    "0 → 2, 3, 4\n",
    "1 → 2, 5, 6\n",
    "3 → 1\n",
    "4 → 6\n",
    "5 → 7\n",
    "6 → 4\n",
    "7 → 6\n",
    "```\n",
    "**Steps**:\n",
    "1. Start from node A (0).\n",
    "2. Use a stack to keep track of nodes to explore.\n",
    "3. Mark nodes as visited to avoid cycles.\n",
    "\n",
    "**Depth-First Search**:\n",
    "\n",
    "1. Start at node 0.\n",
    "2. Push node 0 to the stack and mark it as visited.\n",
    "3. Explore the neighbors of node 0.\n",
    "   Neighbors of 0 are: 2, 3, 4.\n",
    "   \n",
    "   Push them to the stack in reverse order (for exploration purposes): \n",
    "   Stack: [4, 3, 2, 0]\n",
    "   \n",
    "4. Pop 4 from the stack and explore its neighbors.\n",
    "   Neighbors of 4 are: 6\n",
    "   \n",
    "   Push 6 to the stack: \n",
    "   Stack: [6, 3, 2, 0]\n",
    "   \n",
    "5. Pop 6 from the stack and explore its neighbors.\n",
    "   Neighbors of 6 are: 4 (already visited)\n",
    "   \n",
    "   Stack remains the same: \n",
    "   Stack: [3, 2, 0]\n",
    "   \n",
    "6. Pop 3 from the stack and explore its neighbors.\n",
    "   Neighbors of 3 are: 1\n",
    "   \n",
    "   Push 1 to the stack: \n",
    "   Stack: [1, 2, 0]\n",
    "   \n",
    "7. Pop 1 from the stack and explore its neighbors.\n",
    "   Neighbors of 1 are: 2 (already visited), 5, 6 (already visited)\n",
    "   \n",
    "   Push 5 to the stack: \n",
    "   Stack: [5, 2, 0]\n",
    "   \n",
    "8. Pop 5 from the stack and explore its neighbors.\n",
    "   Neighbors of 5 are: 7 (This is our target node, B!)\n",
    "   \n",
    "   We have successfully reached node 7 starting from node 0.\n",
    "\n",
    "**Conclusion**: Node 7 (B) is reachable from node 0 (A) using Depth-First Search."
   ]
  }
 ],
 "metadata": {
  "kernelspec": {
   "display_name": "Python 3 (ipykernel)",
   "language": "python",
   "name": "python3"
  },
  "language_info": {
   "codemirror_mode": {
    "name": "ipython",
    "version": 3
   },
   "file_extension": ".py",
   "mimetype": "text/x-python",
   "name": "python",
   "nbconvert_exporter": "python",
   "pygments_lexer": "ipython3",
   "version": "3.11.4"
  }
 },
 "nbformat": 4,
 "nbformat_minor": 5
}
